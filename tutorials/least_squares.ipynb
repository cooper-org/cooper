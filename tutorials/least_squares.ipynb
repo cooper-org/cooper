{
 "cells": [
  {
   "attachments": {},
   "cell_type": "markdown",
   "metadata": {},
   "source": [
    "### Least Squares\n",
    "\n",
    "##### Standard Problem:\n",
    "$$\n",
    "\\begin{aligned}\n",
    "\\min_{x} \\quad & \\lVert x \\rVert_2^2 \\\\\n",
    "\\textrm{s.t.} \\quad & Ax = b\n",
    "\\end{aligned}\n",
    "$$\n",
    "\n",
    "##### Lagrangian:\n",
    "$$\n",
    "\\begin{aligned}\n",
    "\\mathcal{L}(x, \\lambda) = \\min_{x} \\max_{\\lambda} \\quad & x^{\\top}x + \\lambda^{\\top} (Ax - b)\n",
    "\\end{aligned}\n",
    "$$\n",
    "\n",
    "##### Analytical Solution\n",
    "$$\n",
    "\\begin{aligned}\n",
    "\\frac{\\partial}{\\partial \\lambda} \\rightarrow & Ax^\\ast = b (1) \\\\\n",
    "\\frac{\\partial}{\\partial x} \\rightarrow & 2x^\\ast + A^\\top \\lambda^\\ast = 0 \\\\\n",
    "& x^\\ast = - \\frac{1}{2}A^\\top\\lambda^\\ast (2)\n",
    "\\end{aligned}\n",
    "$$\n",
    "\n",
    "Replace $x^\\ast$ in $(1)$\n",
    "$$\n",
    "\\begin{aligned}\n",
    "A( - \\frac{1}{2}A^\\top\\lambda^\\ast) & = b \\\\\n",
    " - \\frac{1}{2}AA^\\top\\lambda^\\ast & = b \\\\\n",
    " \\lambda^\\ast = -2(AA^\\top)^{-1}b\n",
    "\\end{aligned}\n",
    "$$\n",
    "\n",
    "Replace $\\lambda^\\ast$ in $(2)$\n",
    "$$\n",
    "x^\\ast = A^\\top(AA^\\top)^{-1}b\n",
    "$$"
   ]
  },
  {
   "cell_type": "code",
   "execution_count": null,
   "metadata": {},
   "outputs": [],
   "source": []
  }
 ],
 "metadata": {
  "kernelspec": {
   "display_name": "cooper_env",
   "language": "python",
   "name": "python3"
  },
  "language_info": {
   "name": "python",
   "version": "3.9.5"
  },
  "orig_nbformat": 4,
  "vscode": {
   "interpreter": {
    "hash": "d57398e4c892659ae26c45c01e66f073100db561c83ba05bbfdcaf3b84d1b21e"
   }
  }
 },
 "nbformat": 4,
 "nbformat_minor": 2
}
