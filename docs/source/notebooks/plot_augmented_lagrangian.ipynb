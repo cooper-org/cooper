{
 "cells": [
  {
   "cell_type": "markdown",
   "metadata": {},
   "source": [
    "# Using the Augmented Lagrangian function.\n",
    "\n",
    "[![Open in Colab](https://colab.research.google.com/assets/colab-badge.svg)](https://colab.research.google.com/github/cooper-org/cooper/blob/master/docs/source/notebooks/plot_augmented_lagrangian.ipynb)\n",
    "\n",
    "In this tutorial we demonstrate how to use the {py:class}`~cooper.formulations.AugmentedLagrangian` formulation to solve constrained optimization problems in **Cooper**. We borrow a simple 2D example from {cite:p}`nocedal2006NumericalOptimization` to illustrate the usage of the formulation, and its advantages over the {py:class}`~cooper.formulations.QuadraticPenalty` formulation."
   ]
  },
  {
   "cell_type": "code",
   "execution_count": 1,
   "metadata": {},
   "outputs": [],
   "source": [
    "%%capture\n",
    "# %pip install cooper-optim\n",
    "%pip install --index-url https://test.pypi.org/simple/ --no-deps cooper-optim  # TODO: Remove this line when cooper deployed to pypi"
   ]
  },
  {
   "cell_type": "code",
   "execution_count": 2,
   "metadata": {},
   "outputs": [],
   "source": []
  },
  {
   "cell_type": "markdown",
   "metadata": {},
   "source": [
    "## Problem"
   ]
  },
  {
   "cell_type": "markdown",
   "metadata": {},
   "source": [
    "We consider solving the following problem (problem 17.3) from {cite:t}`nocedal2006NumericalOptimization`:\n",
    "\n",
    "$$\n",
    "\\min_{\\boldsymbol{x} \\in \\mathbb{R}^2} f(\\boldsymbol{x}) = x_1 + x_2 \\quad \\text{s.t.} \\quad x_1^2 + x_2^2 = 2.\n",
    "$$\n",
    "\n",
    "The Augmented Lagrangian function associated with this problem is:\n",
    "\n",
    "$$\n",
    "\\mathcal{L}_{c}(\\boldsymbol{x}, \\mu) = x_1 + x_2 + \\mu (x_1^2 + x_2^2 - 2) + \\frac{c}{2} (x_1^2 + x_2^2 - 2)^2,\n",
    "$$\n",
    "\n",
    "where $\\mu$ is the Lagrange multiplier associated with the equality constraint, and $c$ is the penalty parameter.\n",
    "\n",
    "We will also consider the Quadratic Penalty function associated with this problem: TODO"
   ]
  }
 ],
 "metadata": {
  "jupytext": {
   "formats": "ipynb,md:myst"
  },
  "language_info": {
   "codemirror_mode": {
    "name": "ipython",
    "version": 3
   },
   "file_extension": ".py",
   "mimetype": "text/x-python",
   "name": "python",
   "nbconvert_exporter": "python",
   "pygments_lexer": "ipython3",
   "version": "3.10.16"
  }
 },
 "nbformat": 4,
 "nbformat_minor": 2
}
